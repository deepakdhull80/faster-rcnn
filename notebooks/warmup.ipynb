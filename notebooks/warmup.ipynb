{
 "cells": [
  {
   "cell_type": "code",
   "execution_count": 1,
   "id": "1b4052ef-7b1a-4901-ab0b-80c5225f3c6d",
   "metadata": {},
   "outputs": [],
   "source": [
    "import os\n",
    "import json\n",
    "import pandas as pd"
   ]
  },
  {
   "cell_type": "code",
   "execution_count": 2,
   "id": "90a3bd0a-59b9-4796-83e8-1dba68abe445",
   "metadata": {},
   "outputs": [],
   "source": [
    "ds = json.load(open(\"../data/annotations/annotations/instances_train2017.json\"))"
   ]
  },
  {
   "cell_type": "code",
   "execution_count": 3,
   "id": "44495ad6-bf3f-470e-b28b-4d679c9baa59",
   "metadata": {},
   "outputs": [
    {
     "data": {
      "text/plain": [
       "dict_keys(['info', 'licenses', 'images', 'annotations', 'categories'])"
      ]
     },
     "execution_count": 3,
     "metadata": {},
     "output_type": "execute_result"
    }
   ],
   "source": [
    "ds.keys()"
   ]
  },
  {
   "cell_type": "code",
   "execution_count": 5,
   "id": "f13491aa-3b9e-4baa-b894-b4e3646f48bc",
   "metadata": {},
   "outputs": [],
   "source": [
    "images = pd.DataFrame(ds['images'])"
   ]
  },
  {
   "cell_type": "code",
   "execution_count": 6,
   "id": "2cc2bec7-c9c1-4a6c-a593-634db5140308",
   "metadata": {},
   "outputs": [],
   "source": [
    "annotations = pd.DataFrame(ds['annotations'])"
   ]
  },
  {
   "cell_type": "code",
   "execution_count": 13,
   "id": "319945d4-afb0-4ff7-b923-2b7bf734e2b5",
   "metadata": {},
   "outputs": [
    {
     "data": {
      "text/html": [
       "<div>\n",
       "<style scoped>\n",
       "    .dataframe tbody tr th:only-of-type {\n",
       "        vertical-align: middle;\n",
       "    }\n",
       "\n",
       "    .dataframe tbody tr th {\n",
       "        vertical-align: top;\n",
       "    }\n",
       "\n",
       "    .dataframe thead th {\n",
       "        text-align: right;\n",
       "    }\n",
       "</style>\n",
       "<table border=\"1\" class=\"dataframe\">\n",
       "  <thead>\n",
       "    <tr style=\"text-align: right;\">\n",
       "      <th></th>\n",
       "      <th>license</th>\n",
       "      <th>file_name</th>\n",
       "      <th>coco_url</th>\n",
       "      <th>height</th>\n",
       "      <th>width</th>\n",
       "      <th>date_captured</th>\n",
       "      <th>flickr_url</th>\n",
       "      <th>id</th>\n",
       "    </tr>\n",
       "  </thead>\n",
       "  <tbody>\n",
       "    <tr>\n",
       "      <th>0</th>\n",
       "      <td>3</td>\n",
       "      <td>000000391895.jpg</td>\n",
       "      <td>http://images.cocodataset.org/train2017/000000...</td>\n",
       "      <td>360</td>\n",
       "      <td>640</td>\n",
       "      <td>2013-11-14 11:18:45</td>\n",
       "      <td>http://farm9.staticflickr.com/8186/8119368305_...</td>\n",
       "      <td>391895</td>\n",
       "    </tr>\n",
       "    <tr>\n",
       "      <th>1</th>\n",
       "      <td>4</td>\n",
       "      <td>000000522418.jpg</td>\n",
       "      <td>http://images.cocodataset.org/train2017/000000...</td>\n",
       "      <td>480</td>\n",
       "      <td>640</td>\n",
       "      <td>2013-11-14 11:38:44</td>\n",
       "      <td>http://farm1.staticflickr.com/1/127244861_ab0c...</td>\n",
       "      <td>522418</td>\n",
       "    </tr>\n",
       "    <tr>\n",
       "      <th>2</th>\n",
       "      <td>3</td>\n",
       "      <td>000000184613.jpg</td>\n",
       "      <td>http://images.cocodataset.org/train2017/000000...</td>\n",
       "      <td>336</td>\n",
       "      <td>500</td>\n",
       "      <td>2013-11-14 12:36:29</td>\n",
       "      <td>http://farm3.staticflickr.com/2169/2118578392_...</td>\n",
       "      <td>184613</td>\n",
       "    </tr>\n",
       "    <tr>\n",
       "      <th>3</th>\n",
       "      <td>3</td>\n",
       "      <td>000000318219.jpg</td>\n",
       "      <td>http://images.cocodataset.org/train2017/000000...</td>\n",
       "      <td>640</td>\n",
       "      <td>556</td>\n",
       "      <td>2013-11-14 13:02:53</td>\n",
       "      <td>http://farm5.staticflickr.com/4125/5094763076_...</td>\n",
       "      <td>318219</td>\n",
       "    </tr>\n",
       "    <tr>\n",
       "      <th>4</th>\n",
       "      <td>3</td>\n",
       "      <td>000000554625.jpg</td>\n",
       "      <td>http://images.cocodataset.org/train2017/000000...</td>\n",
       "      <td>640</td>\n",
       "      <td>426</td>\n",
       "      <td>2013-11-14 16:03:19</td>\n",
       "      <td>http://farm5.staticflickr.com/4086/5094162993_...</td>\n",
       "      <td>554625</td>\n",
       "    </tr>\n",
       "  </tbody>\n",
       "</table>\n",
       "</div>"
      ],
      "text/plain": [
       "   license         file_name  \\\n",
       "0        3  000000391895.jpg   \n",
       "1        4  000000522418.jpg   \n",
       "2        3  000000184613.jpg   \n",
       "3        3  000000318219.jpg   \n",
       "4        3  000000554625.jpg   \n",
       "\n",
       "                                            coco_url  height  width  \\\n",
       "0  http://images.cocodataset.org/train2017/000000...     360    640   \n",
       "1  http://images.cocodataset.org/train2017/000000...     480    640   \n",
       "2  http://images.cocodataset.org/train2017/000000...     336    500   \n",
       "3  http://images.cocodataset.org/train2017/000000...     640    556   \n",
       "4  http://images.cocodataset.org/train2017/000000...     640    426   \n",
       "\n",
       "         date_captured                                         flickr_url  \\\n",
       "0  2013-11-14 11:18:45  http://farm9.staticflickr.com/8186/8119368305_...   \n",
       "1  2013-11-14 11:38:44  http://farm1.staticflickr.com/1/127244861_ab0c...   \n",
       "2  2013-11-14 12:36:29  http://farm3.staticflickr.com/2169/2118578392_...   \n",
       "3  2013-11-14 13:02:53  http://farm5.staticflickr.com/4125/5094763076_...   \n",
       "4  2013-11-14 16:03:19  http://farm5.staticflickr.com/4086/5094162993_...   \n",
       "\n",
       "       id  \n",
       "0  391895  \n",
       "1  522418  \n",
       "2  184613  \n",
       "3  318219  \n",
       "4  554625  "
      ]
     },
     "execution_count": 13,
     "metadata": {},
     "output_type": "execute_result"
    }
   ],
   "source": [
    "images.head()"
   ]
  },
  {
   "cell_type": "code",
   "execution_count": 15,
   "id": "00716478-e7e0-4425-b378-33eded4c8302",
   "metadata": {},
   "outputs": [],
   "source": [
    "images = images[['file_name', 'id']]"
   ]
  },
  {
   "cell_type": "code",
   "execution_count": 16,
   "id": "e0cdc78e-686c-4a5d-abf0-c8e20f5c3fdd",
   "metadata": {},
   "outputs": [],
   "source": [
    "annotations = annotations[['image_id', 'bbox', 'category_id']]"
   ]
  },
  {
   "cell_type": "code",
   "execution_count": 17,
   "id": "12ea3229-989c-4e48-9eda-72dd9afaba87",
   "metadata": {},
   "outputs": [
    {
     "data": {
      "text/plain": [
       "(Index(['file_name', 'id'], dtype='object'),\n",
       " Index(['image_id', 'bbox', 'category_id'], dtype='object'))"
      ]
     },
     "execution_count": 17,
     "metadata": {},
     "output_type": "execute_result"
    }
   ],
   "source": [
    "images.columns, annotations.columns"
   ]
  },
  {
   "cell_type": "code",
   "execution_count": 19,
   "id": "b1189e93-480f-4f97-b962-cbc05e566aa7",
   "metadata": {},
   "outputs": [],
   "source": [
    "merge_df = pd.merge(images, annotations, how='inner', left_on='id', right_on='image_id')"
   ]
  },
  {
   "cell_type": "code",
   "execution_count": 21,
   "id": "34b2bba5-1baf-49b7-8417-35ac95a4b359",
   "metadata": {},
   "outputs": [],
   "source": [
    "del merge_df['id']"
   ]
  },
  {
   "cell_type": "code",
   "execution_count": 22,
   "id": "5957a2ea-1a6b-4baf-8bf8-5e3ec606d940",
   "metadata": {},
   "outputs": [
    {
     "data": {
      "text/html": [
       "<div>\n",
       "<style scoped>\n",
       "    .dataframe tbody tr th:only-of-type {\n",
       "        vertical-align: middle;\n",
       "    }\n",
       "\n",
       "    .dataframe tbody tr th {\n",
       "        vertical-align: top;\n",
       "    }\n",
       "\n",
       "    .dataframe thead th {\n",
       "        text-align: right;\n",
       "    }\n",
       "</style>\n",
       "<table border=\"1\" class=\"dataframe\">\n",
       "  <thead>\n",
       "    <tr style=\"text-align: right;\">\n",
       "      <th></th>\n",
       "      <th>file_name</th>\n",
       "      <th>image_id</th>\n",
       "      <th>bbox</th>\n",
       "      <th>category_id</th>\n",
       "    </tr>\n",
       "  </thead>\n",
       "  <tbody>\n",
       "    <tr>\n",
       "      <th>0</th>\n",
       "      <td>000000391895.jpg</td>\n",
       "      <td>391895</td>\n",
       "      <td>[359.17, 146.17, 112.45, 213.57]</td>\n",
       "      <td>4</td>\n",
       "    </tr>\n",
       "    <tr>\n",
       "      <th>1</th>\n",
       "      <td>000000391895.jpg</td>\n",
       "      <td>391895</td>\n",
       "      <td>[339.88, 22.16, 153.88, 300.73]</td>\n",
       "      <td>1</td>\n",
       "    </tr>\n",
       "    <tr>\n",
       "      <th>2</th>\n",
       "      <td>000000391895.jpg</td>\n",
       "      <td>391895</td>\n",
       "      <td>[471.64, 172.82, 35.92, 48.1]</td>\n",
       "      <td>1</td>\n",
       "    </tr>\n",
       "    <tr>\n",
       "      <th>3</th>\n",
       "      <td>000000391895.jpg</td>\n",
       "      <td>391895</td>\n",
       "      <td>[486.01, 183.31, 30.63, 34.98]</td>\n",
       "      <td>2</td>\n",
       "    </tr>\n",
       "    <tr>\n",
       "      <th>4</th>\n",
       "      <td>000000522418.jpg</td>\n",
       "      <td>522418</td>\n",
       "      <td>[382.48, 0.0, 256.8, 474.31]</td>\n",
       "      <td>1</td>\n",
       "    </tr>\n",
       "  </tbody>\n",
       "</table>\n",
       "</div>"
      ],
      "text/plain": [
       "          file_name  image_id                              bbox  category_id\n",
       "0  000000391895.jpg    391895  [359.17, 146.17, 112.45, 213.57]            4\n",
       "1  000000391895.jpg    391895   [339.88, 22.16, 153.88, 300.73]            1\n",
       "2  000000391895.jpg    391895     [471.64, 172.82, 35.92, 48.1]            1\n",
       "3  000000391895.jpg    391895    [486.01, 183.31, 30.63, 34.98]            2\n",
       "4  000000522418.jpg    522418      [382.48, 0.0, 256.8, 474.31]            1"
      ]
     },
     "execution_count": 22,
     "metadata": {},
     "output_type": "execute_result"
    }
   ],
   "source": [
    "merge_df.head()"
   ]
  },
  {
   "cell_type": "code",
   "execution_count": 24,
   "id": "eef63307-9e44-482a-a31a-22aad234a369",
   "metadata": {},
   "outputs": [],
   "source": [
    "def helper(g_df):\n",
    "    f = list(zip(g_df['bbox'].tolist(), g_df['category_id'].tolist()))\n",
    "    return f\n",
    "\n",
    "f_df = merge_df.groupby(['file_name', 'image_id']).apply(helper).reset_index()"
   ]
  },
  {
   "cell_type": "code",
   "execution_count": 28,
   "id": "d3d95ac5-cfd6-48f0-981e-f69ff29d803f",
   "metadata": {},
   "outputs": [],
   "source": [
    "f_df = f_df.rename(columns={0:\"box_category\"})"
   ]
  },
  {
   "cell_type": "code",
   "execution_count": 33,
   "id": "a3b47536-0dc9-490a-b300-beff1bf6b64d",
   "metadata": {},
   "outputs": [
    {
     "data": {
      "text/plain": [
       "{'file_name': '000000000009.jpg',\n",
       " 'image_id': 9,\n",
       " 'box_category': [([1.08, 187.69, 611.59, 285.84], 51),\n",
       "  ([311.73, 4.31, 319.28, 228.68], 51),\n",
       "  ([249.6, 229.27, 316.24, 245.08], 56),\n",
       "  ([0.0, 13.51, 434.48, 375.12], 51),\n",
       "  ([376.2, 40.36, 75.55, 46.53], 55),\n",
       "  ([465.78, 38.97, 58.07, 46.67], 55),\n",
       "  ([385.7, 73.66, 84.02, 70.51], 55),\n",
       "  ([364.05, 2.49, 94.76, 71.07], 55)]}"
      ]
     },
     "execution_count": 33,
     "metadata": {},
     "output_type": "execute_result"
    }
   ],
   "source": [
    "f_df.iloc[0].to_dict()"
   ]
  },
  {
   "cell_type": "code",
   "execution_count": 32,
   "id": "e3d20f05-8894-4f68-8ebf-c5868289bec7",
   "metadata": {},
   "outputs": [
    {
     "data": {
      "text/plain": [
       "([311.73, 4.31, 319.28, 228.68], 51)"
      ]
     },
     "execution_count": 32,
     "metadata": {},
     "output_type": "execute_result"
    }
   ],
   "source": [
    "from tqdm import tqdm\n",
    "ANNOTATION_PATH = \"\"\n",
    "\n",
    "for i, row in merge_df.iterrows():\n",
    "    filename = row['file_name'].replace(\".jpg\",'.json')\n",
    "    json.dump(open(f\"{ANNOTATION_PATH}/{filename}\"))"
   ]
  }
 ],
 "metadata": {
  "kernelspec": {
   "display_name": "dev",
   "language": "python",
   "name": "dev"
  },
  "language_info": {
   "codemirror_mode": {
    "name": "ipython",
    "version": 3
   },
   "file_extension": ".py",
   "mimetype": "text/x-python",
   "name": "python",
   "nbconvert_exporter": "python",
   "pygments_lexer": "ipython3",
   "version": "3.9.0"
  }
 },
 "nbformat": 4,
 "nbformat_minor": 5
}
